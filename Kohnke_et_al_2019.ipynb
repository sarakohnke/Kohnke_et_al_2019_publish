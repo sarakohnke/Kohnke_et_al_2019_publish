{
 "cells": [
  {
   "cell_type": "markdown",
   "metadata": {},
   "source": [
    "# Code to analyze and visualize scRNAseq data - R"
   ]
  },
  {
   "cell_type": "markdown",
   "metadata": {},
   "source": [
    "## Cluster cells and find defining genes per cluster\n",
    "Packages required: cellrangerRkit, NBClust, edgeR, GOplot, devtools\n",
    "\n",
    "References: \n",
    "\n",
    "http://cf.10xgenomics.com/supp/cell-exp/cellrangerrkit-PBMC-vignette-knitr-2.0.0.pdf\n",
    "\n",
    "https://www.bioconductor.org/packages/release/bioc/vignettes/edgeR/inst/doc/edgeRUsersGuide.pdf"
   ]
  },
  {
   "cell_type": "markdown",
   "metadata": {},
   "source": [
    "Locate file path that contains files produced from 10x sequencing (including gene BC matrix and mouse genome info), set as working directory"
   ]
  },
  {
   "cell_type": "code",
   "execution_count": null,
   "metadata": {},
   "outputs": [],
   "source": [
    "setwd(\"~your/file/path\")"
   ]
  },
  {
   "cell_type": "markdown",
   "metadata": {},
   "source": [
    "Load gene BC matrix (contains info about sample barcodes, expression counts per cell) and analysis results (10X performs some preliminary analysis)"
   ]
  },
  {
   "cell_type": "code",
   "execution_count": null,
   "metadata": {},
   "outputs": [],
   "source": [
    "gbm<-load_cellranger_matrix(\"./\")\n",
    "analysis_results<-load_cellranger_analysis_results"
   ]
  },
  {
   "cell_type": "markdown",
   "metadata": {},
   "source": [
    "### Find optimal number of clusters for the dataset\n",
    "Use coordinates for all cells in tSNE plot: 'tsne_kmeans.csv' (in Github repository)"
   ]
  },
  {
   "cell_type": "code",
   "execution_count": null,
   "metadata": {},
   "outputs": [],
   "source": [
    "tsne_kmeans<-read.csv('tsne_kmeans.csv')\n",
    "fviz_nbclust(tsne_kmeans,kmeans,method=\"silhouette\",k.max=15)"
   ]
  },
  {
   "cell_type": "markdown",
   "metadata": {},
   "source": [
    "See Supplementary Figure 1d for output"
   ]
  },
  {
   "cell_type": "markdown",
   "metadata": {},
   "source": [
    "### Find top defining genes per cluster\n",
    "Use 9 K-means clusters based on silhouette analysis. Can change 'n' to the number of defining genes required. Output file will be in the working directory"
   ]
  },
  {
   "cell_type": "code",
   "execution_count": null,
   "metadata": {},
   "outputs": [],
   "source": [
    "cells_to_plot<-order_cell_by_clusters(gbm, analysis_results$clustering$kmeans_9_clusters$Cluster)\n",
    "prioritized_genes<-prioritize_top_genes(gbm, analysis_results$clustering$kmeans_9_clusters$Cluster, \"sseq\", min_mean=0.5)\n",
    "write_cluster_specific_genes(prioritized_genes, output_folder, n_genes=50)"
   ]
  },
  {
   "cell_type": "markdown",
   "metadata": {},
   "source": [
    "### Find genes differentially expressed between conditions\n",
    "Use new .csv file that only contains experimental condition and gene expression data from a single cluster. See 'Cluster1_edgeR.txt' (in Github repository). The stringency set in rowSums is based on trial and error for similar experiments in our lab. Can change 'n' to the number of DEGs required."
   ]
  },
  {
   "cell_type": "code",
   "execution_count": null,
   "metadata": {},
   "outputs": [],
   "source": [
    "x<-read.delim(\"Cluster1_edgeR.txt\",row.names=\"symbol\")\n",
    "group<-factor(c(1,1,1,1,1,1,1,1,1,1,1,1,1,1,1,1,1,1,1,1,1,1,1,1,1,1,1,1,1,1,\n",
    "                1,1,1,1,1,1,1,1,1,1,1,1,1,1,1,1,1,1,1,1,1,1,1,1,1,1,1,1,1,1,\n",
    "                1,1,1,1,1,1,1,1,1,1,1,1,1,1,1,1,1,1,1,1,1,1,1,1,1,1,1,1,1,1,\n",
    "                1,1,1,1,1,1,1,1,1,1,1,1,1,1,1,1,1,1,1,1,1,1,1,1,1,1,1,1,1,1,\n",
    "                1,1,1,1,1,1,1,1,1,1,1,1,1,1,1,1,1,1,1,1,1,1,1,1,1,1,1,1,1,1,\n",
    "                1,1,1,1,1,1,1,1,1,1,1,1,1,1,1,1,1,1,1,1,1,1,1,1,1,1,1,1,1,1,\n",
    "                1,1,1,1,1,1,1,1,1,1,1,1,1,1,1,1,1,1,1,1,1,1,1,1,1,1,1,1,1,1,\n",
    "                1,1,1,1,1,1,1,1,1,1,1,1,1,1,1,1,1,1,1,1,1,1,1,1,1,1,1,1,1,1,\n",
    "                1,1,1,1,1,1,1,1,1,1,1,1,1,1,1,1,1,1,1,1,1,1,1,1,1,1,1,1,1,1,\n",
    "                1,1,1,1,1,1,1,1,1,1,1,1,1,1,1,1,1,1,1,1,1,1,1,1,1,1,1,1,\n",
    "                2,2,2,2,2,2,2,2,2,2,2,2,2,2,2,2,2,2,2,2,2,2,2,2,2,2,2,2,2,2,\n",
    "                2,2,2,2,2,2,2,2,2,2,2,2,2,2,2,2,2,2,2,2,2,2,2,2,2,2,2,2,2,2,\n",
    "                2,2,2,2,2,2,2,2,2,2,2,2,2,2,2,2,2,2,2,2,2,2,2,2,2,2,2,2,2,2,\n",
    "                2,2,2,2,2,2,2,2,2,2,2,2,2,2,2,2,2,2,2,2,2,2,2,2,2,2,2,2,2,2,\n",
    "                2,2,2,2,2,2,2,2,2,2,2,2,2,2,2,2,2,2,2,2,2,2,2,2,2,2,2,2,2,2,\n",
    "                2,2,2,2,2,2,2,2,2,2,2,2,2,2,2,2,2,2,2,2,2,2,2,2,2,2,2,2,2,2,\n",
    "                2,2,2,2,2,2,2,2,2,2,2,2,2,2,2,2,2,2,2,2,2,2,2,2,2,2,2,2,2,2,\n",
    "                2,2,2,2,2,2,2,2,2,2,2,2,2,2,2,2,2,2,2,2,2,2,2,2,2,2,2,2,2,2,\n",
    "                2,2,2,2,2,2,2,2,2,2,2,2,2,2,2,2,2,2,2,2,2,2,2,2,2,2,2,2,2,2,\n",
    "                2,2,2,2,2,2,2,2,2,2,2,2,2,2,2,2,2,2,2,2,2,2,2,2,2,2,2,2,2,2,\n",
    "                2,2,2,2,2,2,2,2,2,2,2,2,2,2,2,2,2,2,2,2,2,2,2,2,2,2,2,2,2,2,\n",
    "                2,2,2,2,2,2,2,2,2,2,2,2,2,2,2,2,2,2,2,2,2,2,2,2,2,2,2,2))\n",
    "y<-DGEList(counts=x,group=group)\n",
    "keep<-rowSums(cpm(y)>5)>=8\n",
    "y<-y[keep, , keep.lib.sizes=FALSE]\n",
    "y<-calcNormFactors(y)\n",
    "design<-model.matrix(~group)\n",
    "y<-estimateDisp(y,design)\n",
    "fit<-glmQLFit(y,design)\n",
    "qlf1vs2<-glmQLFTest(fit,coef=2)\n",
    "topgenesQLFtest<-topTags(qlf1vs2, n=2000)\n",
    "write.csv(topgenesQLFtest,\"topgenesQLFtest.csv\")"
   ]
  },
  {
   "cell_type": "markdown",
   "metadata": {},
   "source": [
    "## Produce figures for scRNAseq data\n",
    "Packages required: cellrangerRkit, ggplot2, tidyr"
   ]
  },
  {
   "cell_type": "markdown",
   "metadata": {},
   "source": [
    "### UMI counts mapped to tSNE plot"
   ]
  },
  {
   "cell_type": "code",
   "execution_count": null,
   "metadata": {},
   "outputs": [],
   "source": [
    "tsne_proj<-analysis_results$tsne\n",
    "visualize_umi_counts(gbm,tsne_proj[c(\"TSNE.1\",\"TSNE.2\")],limits=c(3,4),marker_size=0.05)"
   ]
  },
  {
   "cell_type": "markdown",
   "metadata": {},
   "source": [
    "See Supplementary Figure 1c for output"
   ]
  },
  {
   "cell_type": "markdown",
   "metadata": {},
   "source": [
    "### Visualize cluster assignments on tSNE plot\n",
    "Based on 9 clusters determined by silhouette analysis. Cluster names were assigned based on defining genes."
   ]
  },
  {
   "cell_type": "code",
   "execution_count": null,
   "metadata": {},
   "outputs": [],
   "source": [
    "visualize_clusters(analysis_results$clustering$kmeans_9_clusters$Cluster,tsne_proj[c(\"TSNE.1\",\"TSNE.2\")],\n",
    "                   colour=c(\"green\",\"blue\",\"red\",\"purple\",\"yellow\",\"orange\",\"pink\",\"gray\",\"black\"),\n",
    "                   legend_anno = c(\"tanycyte\",\"astrocyte\",\"oligodendrocyte 1\",\"microglia\",\"neuron\",\n",
    "                   \"oligodendrocyte 2\",\"VLMC\",\"ependymocyte\",\"endothelial\"))"
   ]
  },
  {
   "cell_type": "markdown",
   "metadata": {},
   "source": [
    "See Figure 1b for output"
   ]
  },
  {
   "cell_type": "markdown",
   "metadata": {},
   "source": [
    "### Create heatmap of top gene expression per cluster\n",
    "Can change n_genes to the number of top genes required"
   ]
  },
  {
   "cell_type": "code",
   "execution_count": null,
   "metadata": {},
   "outputs": [],
   "source": [
    "gbm_pheatmap(log_gene_bc_matrix(gbm,base=2),prioritized_genes,cells_to_plot,n_genes=5,colour=\n",
    "               c(\"green\",\"blue\",\"red\",\"purple\",\"yellow\",\"orange\",\"pink\",\"gray\",\"black\"),limits=c(-1,2))"
   ]
  },
  {
   "cell_type": "markdown",
   "metadata": {},
   "source": [
    "See Figure 1c for output"
   ]
  },
  {
   "cell_type": "markdown",
   "metadata": {},
   "source": [
    "### Create violin plot of defining genes per cluster\n",
    "Genes chosen based on defining genes per cluster. Use .csv file with expression values of the chosen genes for all cells. See 'violingenes2.csv'(in Github repository). "
   ]
  },
  {
   "cell_type": "code",
   "execution_count": null,
   "metadata": {},
   "outputs": [],
   "source": [
    "nineclusters<-read.csv(\"violingenes.csv\")\n",
    "nineclusters$cluster<-as.factor(nineclusters$cluster)\n",
    "nineclusterslong<-gather(nineclusters, key=\"measure\", value=\"value\", c(\"Rax\",\n",
    "    \"Agt\",\"Ermn\",\"C1qc\",\"Snhg11\",\"Cd9\",\"Dcn\",\"Elof1\",\"Itm2a\"))\n",
    "nineclusterslong$measure_f=factor(nineclusterslong$measure,levels=c(\"Rax\",\n",
    "    \"Agt\",\"Ermn\",\"C1qc\",\"Snhg11\",\"Cd9\",\"Dcn\",\"Elof1\",\"Itm2a\"))\n",
    "ggplot(nineclusterslong, aes(x=cluster, y=value,fill=cluster))+\n",
    "  geom_violin(scale=\"width\")+\n",
    "  facet_wrap(~measure_f, scales=\"free_x\", nrow=1)+\n",
    "  coord_flip()+\n",
    "  theme_classic(base_size=7)+\n",
    "  scale_x_discrete(limits=unique(rev(nineclusterslong$cluster)))+\n",
    "  scale_fill_manual(values=c(\"green\",\"blue\",\"red\",\"purple\",\"yellow\",\n",
    "                             \"orange\",\"pink\",\"gray\",\"black\"))+\n",
    "  labs(y=\"UMI\")"
   ]
  },
  {
   "cell_type": "markdown",
   "metadata": {},
   "source": [
    "See Figure 1d for output"
   ]
  },
  {
   "cell_type": "markdown",
   "metadata": {},
   "source": [
    "### Create bubble plot of pathways changed between experimental conditions\n",
    "Use .csv files with regulated pathways for each cluster: see 'IPAOPCbubble.csv', 'NFOLIPAbubble.csv', and 'MOLIPAbubble.csv' (in Github repository). Use .csv files with lists of genes in each regulated pathway with logFC values and p values: see 'opcgenelist.csv', 'nfolgenelist.csv', and 'molgenelist.csv' (in Github repository)."
   ]
  },
  {
   "cell_type": "code",
   "execution_count": null,
   "metadata": {},
   "outputs": [],
   "source": [
    "opc_ipa<-read.csv('IPAOPCbubble.csv')\n",
    "opcgenelist<-read.csv('opcgenelist.csv')\n",
    "opccirc<-circle_dat(opc_ipa,opcgenelist)\n",
    "GOBubble(opccirc, labels=3)\n",
    "opcreduced_circ<-reduce_overlap(opccirc,overlap=0.8)\n",
    "GOBubble(opcreduced_circ,colour=c(\"yellow\",\"light green\"),labels=2.05)\n",
    "\n",
    "nfol_ipa<-read.csv('NFOLIPAbubble.csv')\n",
    "nfolgenelist<-read.csv('nfolgenelist.csv')\n",
    "nfolcirc<-circle_dat(nfol_ipa,nfolgenelist)\n",
    "GOBubble(nfolcirc, labels=3)\n",
    "nfolreduced_circ<-reduce_overlap(nfolcirc,overlap=0.8)\n",
    "GOBubble(nfolreduced_circ,colour=c(\"yellow\",\"light green\"),labels=4.8)\n",
    "\n",
    "mol_ipa<-read.csv('MOLIPAbubble.csv')\n",
    "molgenelist<-read.csv('molgenelist.csv')\n",
    "molcirc<-circle_dat(mol_ipa,molgenelist)\n",
    "GOBubble(molcirc, labels=3)\n",
    "molreduced_circ<-reduce_overlap(molcirc,overlap=0.8)\n",
    "GOBubble(molreduced_circ,colour=c(\"yellow\",\"light green\"),labels=5.2)"
   ]
  },
  {
   "cell_type": "markdown",
   "metadata": {},
   "source": [
    "See Figure 4b for output"
   ]
  }
 ],
 "metadata": {
  "kernelspec": {
   "display_name": "R",
   "language": "R",
   "name": "ir"
  },
  "language_info": {
   "codemirror_mode": "r",
   "file_extension": ".r",
   "mimetype": "text/x-r-source",
   "name": "R",
   "pygments_lexer": "r",
   "version": "3.6.0"
  }
 },
 "nbformat": 4,
 "nbformat_minor": 2
}
